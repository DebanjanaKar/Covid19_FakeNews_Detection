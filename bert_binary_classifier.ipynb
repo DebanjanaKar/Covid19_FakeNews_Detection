{
 "cells": [
  {
   "cell_type": "code",
   "execution_count": 1,
   "metadata": {},
   "outputs": [],
   "source": [
    "import torch\n",
    "import numpy as np\n",
    "import pandas as pd\n",
    "from simpletransformers.classification import ClassificationModel\n",
    "import re\n",
    "import sklearn\n",
    "\n",
    "torch.manual_seed(1525)\n",
    "np.random.seed(1525)"
   ]
  },
  {
   "cell_type": "code",
   "execution_count": 2,
   "metadata": {},
   "outputs": [],
   "source": [
    "#loading english data\n",
    "import pickle as pkl\n",
    "with open('./resources/covid_en_tweet.pickle', 'rb') as pkl_in:\n",
    "    tweets = pkl.load(pkl_in)\n",
    "#loading bengali data\n",
    "with open('./resources/covid_bn_tweet.pickle', 'rb') as pkl_in:\n",
    "    tweets_bn = pkl.load(pkl_in)\n",
    "#loading hindi data\n",
    "with open('./resources/covid_hi_tweet.pickle', 'rb') as pkl_in:\n",
    "    tweets_hi = pkl.load(pkl_in)"
   ]
  },
  {
   "cell_type": "code",
   "execution_count": 3,
   "metadata": {
    "scrolled": false
   },
   "outputs": [],
   "source": [
    "#train - test split\n",
    "def split(df):\n",
    "    df_copy = df.copy()\n",
    "    train_set = df_copy.sample(frac=0.80, random_state=0)\n",
    "    print(len(train_set), train_set.head())\n",
    "    test_set_split = df_copy.drop(train_set.index)\n",
    "    #print('-------', len(train_set.index), len(df_copy), len(df_copy) - len(train_set.index), len(test_set))\n",
    "    eval_set = test_set_split.sample(frac=0.50, random_state=0)\n",
    "    print(len(eval_set), eval_set.head())\n",
    "    test_set_split = test_set_split.drop(eval_set.index)\n",
    "    print(len(test_set_split), test_set_split.head())\n",
    "    return train_set, eval_set, test_set_split"
   ]
  },
  {
   "cell_type": "code",
   "execution_count": 4,
   "metadata": {
    "scrolled": true
   },
   "outputs": [
    {
     "name": "stdout",
     "output_type": "stream",
     "text": [
      "                                                text  labels\n",
      "0  for the average american the best way to tell ...       0\n",
      "1                           this is fucking bullshit       0\n",
      "2  can y ’ all please just follow the government ...       0\n",
      "3  no offense but the corona virus disappearing b...       0\n",
      "4  this is the face of someone who just spent  9 ...       1\n",
      "403                                                   text  labels\n",
      "90   one of my coworkers died today from covid19 . ...       1\n",
      "97   this is my mom . she ’ s my hero . she ’ s a  ...       1\n",
      "476  y all got us fucked up ! ! keep that shit in s...       0\n",
      "340  north americans : * hoarding toilet paper , vo...       1\n",
      "395  the first silicon valley death from co vid  - ...       1\n",
      "50                                                   text  labels\n",
      "131  a message from the ministry of information “ t...       1\n",
      "450  hello ,  2  5 th . â   heâ   s definitely ...       0\n",
      "28               day  5 : we have rediscovered farming       0\n",
      "288  before the corona virus reached south africa ,...       1\n",
      "396  breakthrough : chloro quine phosphate  -  - an...       1\n",
      "51                                                  text  labels\n",
      "9   when this corona shit passes we have to promis...       0\n",
      "53          corona sis you leaving by may right ? url       0\n",
      "57        batman bussing tables now . times is hard .       0\n",
      "70  celebrities making singing videos as corona vi...       1\n",
      "72  ice pretended to be doctors . there are no fuc...       1\n"
     ]
    }
   ],
   "source": [
    "del tweets['text_info']\n",
    "df = pd.DataFrame(tweets)\n",
    "print(df.head())\n",
    "train_set, eval_set, test_set = split(df)"
   ]
  },
  {
   "cell_type": "code",
   "execution_count": 5,
   "metadata": {
    "scrolled": true
   },
   "outputs": [],
   "source": [
    "#simple text based classification\n",
    "#very useful library : https://towardsdatascience.com/simple-transformers-introducing-the-easiest-bert-roberta-xlnet-and-xlm-library-58bf8c59b2a3\n",
    "def fake_classify(train_set, eval_set, test_set, path):\n",
    "\n",
    "    # Create a TransformerModel\n",
    "\n",
    "\n",
    "    model = ClassificationModel('bert', 'bert-base-multilingual-uncased', args={ 'evaluate_during_training': True, 'num_train_epochs': 3, 'overwrite_output_dir': True, 'manual_seed' : 1525}, use_cuda = False)\n",
    "\n",
    "    # Train the model\n",
    "\n",
    "    model.train_model(train_set, eval_df=eval_set)\n",
    "\n",
    "    # Evaluate the model\n",
    "\n",
    "    result, model_outputs, wrong_predictions = model.eval_model(test_set, f1=sklearn.metrics.f1_score, acc=sklearn.metrics.accuracy_score)\n",
    "    \n",
    "    #save the model\n",
    "    \n",
    "    import torch\n",
    "    torch.save(model, path)\n",
    "\n",
    "    return result, model_outputs, wrong_predictions"
   ]
  },
  {
   "cell_type": "code",
   "execution_count": 6,
   "metadata": {},
   "outputs": [],
   "source": [
    "def results(result):\n",
    "    prec = result['tp']/(result['tp'] + result['fp'])\n",
    "    rec = result['tp']/(result['tp'] + result['fn'])\n",
    "    fscore = (2*prec*rec)/(prec + rec)\n",
    "    print('Raw result = ', result)\n",
    "    print('Precision = ', prec )\n",
    "    print('Recall = ', rec)\n",
    "    print('F-Score = ', fscore) \n"
   ]
  },
  {
   "cell_type": "code",
   "execution_count": 7,
   "metadata": {},
   "outputs": [],
   "source": [
    "path_en = './resources/en_model'\n",
    "path_bn = './resources/bn_model'\n",
    "path_hi = './resources/hi_model'\n",
    "path_multi = './resources/multi_model'"
   ]
  },
  {
   "cell_type": "code",
   "execution_count": 9,
   "metadata": {
    "scrolled": true
   },
   "outputs": [
    {
     "data": {
      "application/vnd.jupyter.widget-view+json": {
       "model_id": "55f9c98b77164b708b9c6cdaebf5995b",
       "version_major": 2,
       "version_minor": 0
      },
      "text/plain": [
       "HBox(children=(FloatProgress(value=0.0, max=403.0), HTML(value='')))"
      ]
     },
     "metadata": {},
     "output_type": "display_data"
    },
    {
     "name": "stdout",
     "output_type": "stream",
     "text": [
      "\n"
     ]
    },
    {
     "data": {
      "application/vnd.jupyter.widget-view+json": {
       "model_id": "699a364dc216400c85ec9d4b2acd8e10",
       "version_major": 2,
       "version_minor": 0
      },
      "text/plain": [
       "HBox(children=(FloatProgress(value=0.0, description='Epoch', max=3.0, style=ProgressStyle(description_width='i…"
      ]
     },
     "metadata": {},
     "output_type": "display_data"
    },
    {
     "data": {
      "application/vnd.jupyter.widget-view+json": {
       "model_id": "01b53607d49944d599bebdc06c33b09a",
       "version_major": 2,
       "version_minor": 0
      },
      "text/plain": [
       "HBox(children=(FloatProgress(value=0.0, description='Running Epoch 0', max=51.0, style=ProgressStyle(descripti…"
      ]
     },
     "metadata": {},
     "output_type": "display_data"
    },
    {
     "name": "stdout",
     "output_type": "stream",
     "text": [
      "Running loss: 0.503382"
     ]
    },
    {
     "name": "stderr",
     "output_type": "stream",
     "text": [
      "/home/debanjana_ibm/anaconda3/envs/covidfake/lib/python3.6/site-packages/torch/optim/lr_scheduler.py:231: UserWarning: To get the last learning rate computed by the scheduler, please use `get_last_lr()`.\n",
      "  warnings.warn(\"To get the last learning rate computed by the scheduler, \"\n"
     ]
    },
    {
     "name": "stdout",
     "output_type": "stream",
     "text": [
      "Running loss: 0.335193\n"
     ]
    },
    {
     "name": "stderr",
     "output_type": "stream",
     "text": [
      "/home/debanjana_ibm/anaconda3/envs/covidfake/lib/python3.6/site-packages/torch/optim/lr_scheduler.py:200: UserWarning: Please also save or load the state of the optimzer when saving or loading the scheduler.\n",
      "  warnings.warn(SAVE_STATE_WARNING, UserWarning)\n"
     ]
    },
    {
     "data": {
      "application/vnd.jupyter.widget-view+json": {
       "model_id": "a75bb57ce7f444efbb5591f1d89f0841",
       "version_major": 2,
       "version_minor": 0
      },
      "text/plain": [
       "HBox(children=(FloatProgress(value=0.0, description='Running Epoch 1', max=51.0, style=ProgressStyle(descripti…"
      ]
     },
     "metadata": {},
     "output_type": "display_data"
    },
    {
     "name": "stdout",
     "output_type": "stream",
     "text": [
      "Running loss: 0.804690\n"
     ]
    },
    {
     "data": {
      "application/vnd.jupyter.widget-view+json": {
       "model_id": "cba0a0bf851042149935b411a8b27737",
       "version_major": 2,
       "version_minor": 0
      },
      "text/plain": [
       "HBox(children=(FloatProgress(value=0.0, description='Running Epoch 2', max=51.0, style=ProgressStyle(descripti…"
      ]
     },
     "metadata": {},
     "output_type": "display_data"
    },
    {
     "name": "stdout",
     "output_type": "stream",
     "text": [
      "Running loss: 0.925106\n",
      "\n"
     ]
    },
    {
     "data": {
      "application/vnd.jupyter.widget-view+json": {
       "model_id": "f20955be7b464067b8f1fbf94bdf6587",
       "version_major": 2,
       "version_minor": 0
      },
      "text/plain": [
       "HBox(children=(FloatProgress(value=0.0, max=51.0), HTML(value='')))"
      ]
     },
     "metadata": {},
     "output_type": "display_data"
    },
    {
     "name": "stdout",
     "output_type": "stream",
     "text": [
      "\n"
     ]
    },
    {
     "data": {
      "application/vnd.jupyter.widget-view+json": {
       "model_id": "f67755f87f2a4d05a1b320fdba130032",
       "version_major": 2,
       "version_minor": 0
      },
      "text/plain": [
       "HBox(children=(FloatProgress(value=0.0, description='Running Evaluation', max=7.0, style=ProgressStyle(descrip…"
      ]
     },
     "metadata": {},
     "output_type": "display_data"
    },
    {
     "name": "stdout",
     "output_type": "stream",
     "text": [
      "\n",
      "--------------------------------\n",
      "Classification Results : \n",
      "Raw result =  {'mcc': 0.5633927053243971, 'tp': 24, 'tn': 16, 'fp': 7, 'fn': 4, 'f1': 0.8135593220338982, 'acc': 0.7843137254901961, 'eval_loss': 0.7761548986392361}\n",
      "Precision =  0.7741935483870968\n",
      "Recall =  0.8571428571428571\n",
      "F-Score =  0.8135593220338982\n"
     ]
    }
   ],
   "source": [
    "#english results\n",
    "result, model_outputs, wrong_predictions = fake_classify(train_set, eval_set, test_set, path_en)\n",
    "print('--------------------------------')\n",
    "print('Classification Results : ')\n",
    "results(result)"
   ]
  },
  {
   "cell_type": "markdown",
   "metadata": {},
   "source": [
    "#### Results :\n",
    "-------------------------------------------------------------------------------------------------------Prec----Recall-----Fscore\n",
    "1. With my preprocessing + 1 epoch on Covid19 dataset + no validation = 67.60,  87.27,     76.19\n",
    "2. With almost infodemic preprocessing + 3 epochs + validation = 75.86, 78.57, 77.19"
   ]
  },
  {
   "cell_type": "code",
   "execution_count": 9,
   "metadata": {},
   "outputs": [
    {
     "name": "stdout",
     "output_type": "stream",
     "text": [
      "                                                  text  labels\n",
      "0    গড় আমেরিকানদের কাছে আপনার কোভিড -১৯ আছে কিনা ...       0\n",
      "1                                   এই বকশি বাজানো হয়       0\n",
      "2    আপনি কি দয়া করে কেবলমাত্র সরকারের নির্দেশাবলী...       0\n",
      "3    কোনও অপরাধ নয় তবে এপ্রিলের আগে সফল হওয়ার আগে...       0\n",
      "4    লন্ডনের আশেপাশের গুরুতর অসুস্থ কোভিড ১৯ রোগীদে...       1\n",
      "..                                                 ...     ...\n",
      "423  যদি এই টুইটটিতে 10 কেটি আরটি হয়, আমি লিন উপত্...       0\n",
      "426  আমাদের কীভাবে সম্ভাব্য covid-19 ক্ষেত্রে যোগায...       0\n",
      "427  মিডিয়া কর্নাভাইরাস পেয়ে কনজারভেটিভদের উদযাপন...       1\n",
      "429  যদি করোনা এখানে কেবলমাত্র লোকেরা পাচ্ছে তবে .....       0\n",
      "436  তুমি কর. আমি শুনেছি এটি শূকরদের একটি বৃহতভাবে ...       0\n",
      "\n",
      "[380 rows x 2 columns]\n",
      "304                                                   text  labels\n",
      "165  এটিকে উদারপন্থী গণমাধ্যমে একটি প্রেসিডেন্সিয়া...       1\n",
      "338                চাইনিজ করোনার ভাইরাস URL এর মতো হোন       0\n",
      "305  breaking: আমি জরুরী ঘর, জরুরি যত্ন এবং অফিস পর...       1\n",
      "300   করোনাভাইরাস সবচেয়ে বেশি সংখ্যক দেশ নির্ণয়কা...       1\n",
      "240   কভিডের অব্যাহত অভাব 19 টেস্টিং @ রিয়েলডোনাল্...       1\n",
      "38                                                   text  labels\n",
      "314  ধরুন -  চিনা কমিউনিস্ট পার্টি এখন  কোরোনভাইরাস...       1\n",
      "346     la 57 রাউন্ডে ট্রিপ, করোনার ভাইরাস URL ধন্যবাদ       1\n",
      "127  ফক্স নিউজ দাবি করেছে যে এটিকে কখনই covid-19 কে...       1\n",
      "429  যদি করোনা এখানে কেবলমাত্র লোকেরা পাচ্ছে তবে .....       0\n",
      "182  নতুন  সিসিডক্রভ্যালনোটিকস:  কভিড ১৯ রোমানিয়া,...       1\n",
      "38                                                  text  labels\n",
      "10  শ্বাসকষ্ট তাই করোনার লক্ষণ ঠিক তবে আপনি জানেন ...       0\n",
      "40  “ওহে ছেলেরা খুশী স্ব-কোয়ারেন্টাইন। করোনার ভাই...       0\n",
      "49  নাগরিকত্বের মর্যাদা নির্বিশেষে এই কর্মীদের সুর...       0\n",
      "55  ডিসেম্বরে / জানুয়ারীর প্রথম দিকে একটি বাজে ফ্...       1\n",
      "75        প্রিয় আল্লাহ, যেকোন মূল্যে গাজা রক্ষা করুন       0\n"
     ]
    }
   ],
   "source": [
    "#classification on bengali tweets\n",
    "del tweets_bn['text_info']\n",
    "df_bn = pd.DataFrame(tweets_bn)\n",
    "print(df_bn)\n",
    "train_set_bn, eval_set_bn, test_set_bn = split(df_bn)"
   ]
  },
  {
   "cell_type": "code",
   "execution_count": 11,
   "metadata": {},
   "outputs": [
    {
     "data": {
      "application/vnd.jupyter.widget-view+json": {
       "model_id": "e31fc1e2d73a44d59f39f7848f8dc557",
       "version_major": 2,
       "version_minor": 0
      },
      "text/plain": [
       "HBox(children=(FloatProgress(value=0.0, max=304.0), HTML(value='')))"
      ]
     },
     "metadata": {},
     "output_type": "display_data"
    },
    {
     "name": "stdout",
     "output_type": "stream",
     "text": [
      "\n"
     ]
    },
    {
     "data": {
      "application/vnd.jupyter.widget-view+json": {
       "model_id": "63eed765316847b99db16257b4449b2c",
       "version_major": 2,
       "version_minor": 0
      },
      "text/plain": [
       "HBox(children=(FloatProgress(value=0.0, description='Epoch', max=3.0, style=ProgressStyle(description_width='i…"
      ]
     },
     "metadata": {},
     "output_type": "display_data"
    },
    {
     "data": {
      "application/vnd.jupyter.widget-view+json": {
       "model_id": "ebff6a971cc94f629ca6cb9cc0eb3c7d",
       "version_major": 2,
       "version_minor": 0
      },
      "text/plain": [
       "HBox(children=(FloatProgress(value=0.0, description='Running Epoch 0', max=38.0, style=ProgressStyle(descripti…"
      ]
     },
     "metadata": {},
     "output_type": "display_data"
    },
    {
     "name": "stdout",
     "output_type": "stream",
     "text": [
      "Running loss: 0.622902\n"
     ]
    },
    {
     "name": "stderr",
     "output_type": "stream",
     "text": [
      "/home/debanjana_ibm/anaconda3/envs/covidfake/lib/python3.6/site-packages/torch/optim/lr_scheduler.py:200: UserWarning: Please also save or load the state of the optimzer when saving or loading the scheduler.\n",
      "  warnings.warn(SAVE_STATE_WARNING, UserWarning)\n"
     ]
    },
    {
     "data": {
      "application/vnd.jupyter.widget-view+json": {
       "model_id": "5fc380303be140418476decfc3c2901f",
       "version_major": 2,
       "version_minor": 0
      },
      "text/plain": [
       "HBox(children=(FloatProgress(value=0.0, description='Running Epoch 1', max=38.0, style=ProgressStyle(descripti…"
      ]
     },
     "metadata": {},
     "output_type": "display_data"
    },
    {
     "name": "stdout",
     "output_type": "stream",
     "text": [
      "Running loss: 0.481021"
     ]
    },
    {
     "name": "stderr",
     "output_type": "stream",
     "text": [
      "/home/debanjana_ibm/anaconda3/envs/covidfake/lib/python3.6/site-packages/torch/optim/lr_scheduler.py:231: UserWarning: To get the last learning rate computed by the scheduler, please use `get_last_lr()`.\n",
      "  warnings.warn(\"To get the last learning rate computed by the scheduler, \"\n"
     ]
    },
    {
     "name": "stdout",
     "output_type": "stream",
     "text": [
      "Running loss: 0.467411\n"
     ]
    },
    {
     "data": {
      "application/vnd.jupyter.widget-view+json": {
       "model_id": "e531ef06a41c4f7fb63137da26a09d0b",
       "version_major": 2,
       "version_minor": 0
      },
      "text/plain": [
       "HBox(children=(FloatProgress(value=0.0, description='Running Epoch 2', max=38.0, style=ProgressStyle(descripti…"
      ]
     },
     "metadata": {},
     "output_type": "display_data"
    },
    {
     "name": "stdout",
     "output_type": "stream",
     "text": [
      "Running loss: 0.054094\n",
      "\n"
     ]
    },
    {
     "data": {
      "application/vnd.jupyter.widget-view+json": {
       "model_id": "8aaa71f4367844d7883006cdf4444433",
       "version_major": 2,
       "version_minor": 0
      },
      "text/plain": [
       "HBox(children=(FloatProgress(value=0.0, max=38.0), HTML(value='')))"
      ]
     },
     "metadata": {},
     "output_type": "display_data"
    },
    {
     "name": "stdout",
     "output_type": "stream",
     "text": [
      "\n"
     ]
    },
    {
     "data": {
      "application/vnd.jupyter.widget-view+json": {
       "model_id": "e84f0db6ea60405e97f84c430fe2d14c",
       "version_major": 2,
       "version_minor": 0
      },
      "text/plain": [
       "HBox(children=(FloatProgress(value=0.0, description='Running Evaluation', max=5.0, style=ProgressStyle(descrip…"
      ]
     },
     "metadata": {},
     "output_type": "display_data"
    },
    {
     "name": "stdout",
     "output_type": "stream",
     "text": [
      "\n",
      "--------------------------------\n",
      "Classification Results : \n",
      "Raw result =  {'mcc': 0.3967876966218537, 'tp': 11, 'tn': 15, 'fp': 3, 'fn': 9, 'f1': 0.6470588235294117, 'acc': 0.6842105263157895, 'eval_loss': 0.7761805176734924}\n",
      "Precision =  0.7857142857142857\n",
      "Recall =  0.55\n",
      "F-Score =  0.6470588235294117\n"
     ]
    }
   ],
   "source": [
    "result_bn, model_outputs, wrong_predictions = fake_classify(train_set_bn, eval_set_bn, test_set_bn, path_bn)\n",
    "print('--------------------------------')\n",
    "print('Classification Results : ')\n",
    "results(result_bn)"
   ]
  },
  {
   "cell_type": "code",
   "execution_count": 10,
   "metadata": {},
   "outputs": [
    {
     "name": "stdout",
     "output_type": "stream",
     "text": [
      "                                                  text  labels\n",
      "0    औसत अमेरिकी के लिए यह बताने का सबसे अच्छा तरीक...       0\n",
      "1                                          यह बकवास है       0\n",
      "2    क्या आप कृपया सरकार के निर्देशों का पालन कर सक...       0\n",
      "3    कोई अपराध नहीं है लेकिन अप्रैल से पहले गायब हो...       0\n",
      "4    यह किसी ऐसे व्यक्ति का चेहरा है जिसने लंदन के ...       1\n",
      "..                                                 ...     ...\n",
      "409  just in: राष्ट्रपति डॉटरे ने 10 मार्च से 14 मा...       1\n",
      "415  breaking news: मेयर जॉय बेलमोंटे के अनुसार, qu...       1\n",
      "416   इटली में हमने एक भयानक गलती की, हर कोई कहता र...       1\n",
      "418  अपने होम्स के चारों ओर एक लड़की लाएँ और अचानक ...       0\n",
      "437  कोरोना oppa pls उर दुनिया दौरे hyung यू को आरा...       0\n",
      "\n",
      "[349 rows x 2 columns]\n",
      "279                                                   text  labels\n",
      "6    covid-19 के खत्म होने के बाद, मुझे बेहतर है कि...       0\n",
      "54   वाह ... आज सुबह .... कभी नहीं देखा वेगास tbh स...       0\n",
      "306                          अब वे सफाई करना चाहते हैं       0\n",
      "47   केटी पोर्टर की बहन, एक डॉक्टर, तोड़ रही है कि ...       1\n",
      "342  गलत बयान जो गलत सूचना फैलाते हैं और एशियाइयों ...       1\n",
      "35                                                   text  labels\n",
      "166  मैं दोहराता हूं ... चीन ने 2019 के dec में न्य...       1\n",
      "170  मैं 14 मार्च को ईको होटल में amvca में भाग लिय...       1\n",
      "300   कोरोनोवायरस की सबसे बड़ी संख्या वाले देश 1. च...       1\n",
      "127  फॉक्स न्यूज का दावा है कि इसने covid-19 को कभी...       1\n",
      "192  onचीन के डॉक्टरों का कहना है कि  कोरोनोवायरस प...       1\n",
      "35                                                  text  labels\n",
      "10  इसलिए सांस की तकलीफ एक कोरोना लक्षण है, लेकिन ...       0\n",
      "27  कृपया हाइड्रोक्सीक्लोरोक्वीन (प्लाक्वेनिल) प्ल...       1\n",
      "40  \"हे लोग खुश संगरोध। कोरोना वायरस एक वास्तविक च...       0\n",
      "41  विश्व स्वास्थ्य संगठन युवाओं को चेतावनी देता ह...       1\n",
      "49  इन श्रमिकों को नागरिकता की स्थिति की परवाह किए...       0\n"
     ]
    }
   ],
   "source": [
    "#classification on bengali tweets\n",
    "del tweets_hi['text_info']\n",
    "df_hi = pd.DataFrame(tweets_hi)\n",
    "print(df_hi)\n",
    "train_set_hi, eval_set_hi, test_set_hi = split(df_hi)"
   ]
  },
  {
   "cell_type": "code",
   "execution_count": 13,
   "metadata": {},
   "outputs": [
    {
     "data": {
      "application/vnd.jupyter.widget-view+json": {
       "model_id": "5aea40514ba24cdb91e61d9a8ee6fef5",
       "version_major": 2,
       "version_minor": 0
      },
      "text/plain": [
       "HBox(children=(FloatProgress(value=0.0, max=279.0), HTML(value='')))"
      ]
     },
     "metadata": {},
     "output_type": "display_data"
    },
    {
     "name": "stdout",
     "output_type": "stream",
     "text": [
      "\n"
     ]
    },
    {
     "data": {
      "application/vnd.jupyter.widget-view+json": {
       "model_id": "4c2b0f3ee0384085bd6135f891652afe",
       "version_major": 2,
       "version_minor": 0
      },
      "text/plain": [
       "HBox(children=(FloatProgress(value=0.0, description='Epoch', max=3.0, style=ProgressStyle(description_width='i…"
      ]
     },
     "metadata": {},
     "output_type": "display_data"
    },
    {
     "data": {
      "application/vnd.jupyter.widget-view+json": {
       "model_id": "244a6cba1c694a209e8c68790f4be573",
       "version_major": 2,
       "version_minor": 0
      },
      "text/plain": [
       "HBox(children=(FloatProgress(value=0.0, description='Running Epoch 0', max=35.0, style=ProgressStyle(descripti…"
      ]
     },
     "metadata": {},
     "output_type": "display_data"
    },
    {
     "name": "stdout",
     "output_type": "stream",
     "text": [
      "Running loss: 0.655572\n"
     ]
    },
    {
     "name": "stderr",
     "output_type": "stream",
     "text": [
      "/home/debanjana_ibm/anaconda3/envs/covidfake/lib/python3.6/site-packages/torch/optim/lr_scheduler.py:200: UserWarning: Please also save or load the state of the optimzer when saving or loading the scheduler.\n",
      "  warnings.warn(SAVE_STATE_WARNING, UserWarning)\n"
     ]
    },
    {
     "data": {
      "application/vnd.jupyter.widget-view+json": {
       "model_id": "7b896e61080c44f38e72a82c403a4b7e",
       "version_major": 2,
       "version_minor": 0
      },
      "text/plain": [
       "HBox(children=(FloatProgress(value=0.0, description='Running Epoch 1', max=35.0, style=ProgressStyle(descripti…"
      ]
     },
     "metadata": {},
     "output_type": "display_data"
    },
    {
     "name": "stdout",
     "output_type": "stream",
     "text": [
      "Running loss: 0.309549"
     ]
    },
    {
     "name": "stderr",
     "output_type": "stream",
     "text": [
      "/home/debanjana_ibm/anaconda3/envs/covidfake/lib/python3.6/site-packages/torch/optim/lr_scheduler.py:231: UserWarning: To get the last learning rate computed by the scheduler, please use `get_last_lr()`.\n",
      "  warnings.warn(\"To get the last learning rate computed by the scheduler, \"\n"
     ]
    },
    {
     "name": "stdout",
     "output_type": "stream",
     "text": [
      "Running loss: 0.269389\n"
     ]
    },
    {
     "data": {
      "application/vnd.jupyter.widget-view+json": {
       "model_id": "0b21d2db455548458e2763e2b9ba4138",
       "version_major": 2,
       "version_minor": 0
      },
      "text/plain": [
       "HBox(children=(FloatProgress(value=0.0, description='Running Epoch 2', max=35.0, style=ProgressStyle(descripti…"
      ]
     },
     "metadata": {},
     "output_type": "display_data"
    },
    {
     "name": "stdout",
     "output_type": "stream",
     "text": [
      "Running loss: 0.495954\n",
      "\n"
     ]
    },
    {
     "data": {
      "application/vnd.jupyter.widget-view+json": {
       "model_id": "99ac46fecf4b42d3afd7c4dc0fae67ec",
       "version_major": 2,
       "version_minor": 0
      },
      "text/plain": [
       "HBox(children=(FloatProgress(value=0.0, max=35.0), HTML(value='')))"
      ]
     },
     "metadata": {},
     "output_type": "display_data"
    },
    {
     "name": "stdout",
     "output_type": "stream",
     "text": [
      "\n"
     ]
    },
    {
     "data": {
      "application/vnd.jupyter.widget-view+json": {
       "model_id": "54f710d74d7f453f8bdb1d4509bfef8d",
       "version_major": 2,
       "version_minor": 0
      },
      "text/plain": [
       "HBox(children=(FloatProgress(value=0.0, description='Running Evaluation', max=5.0, style=ProgressStyle(descrip…"
      ]
     },
     "metadata": {},
     "output_type": "display_data"
    },
    {
     "name": "stdout",
     "output_type": "stream",
     "text": [
      "\n",
      "--------------------------------\n",
      "Classification Results : \n",
      "Raw result =  {'mcc': 0.22420074340397805, 'tp': 18, 'tn': 5, 'fp': 8, 'fn': 4, 'f1': 0.7500000000000001, 'acc': 0.6571428571428571, 'eval_loss': 0.7776981234550476}\n",
      "Precision =  0.6923076923076923\n",
      "Recall =  0.8181818181818182\n",
      "F-Score =  0.7500000000000001\n"
     ]
    }
   ],
   "source": [
    "result_hi, model_outputs, wrong_predictions = fake_classify(train_set_hi, eval_set_hi, test_set_hi, path_hi)\n",
    "print('--------------------------------')\n",
    "print('Classification Results : ')\n",
    "results(result_hi)"
   ]
  },
  {
   "cell_type": "code",
   "execution_count": 11,
   "metadata": {},
   "outputs": [
    {
     "name": "stdout",
     "output_type": "stream",
     "text": [
      "986                                                   text  labels\n",
      "18   maybe if i develop feelings for co vid  -  19 ...       0\n",
      "342  bigoted statements which spread misinformation...       1\n",
      "467  dude said this like he has all the infinity st...       0\n",
      "852  করোনা একটি কালো আলো এবং আমেরিকা একটি বাঁধা হোট...       0\n",
      "980  दोस्त। covid-19 के कारण लौटने वाले प्रकृति उपच...       1\n",
      "124                                                   text  labels\n",
      "444  the country is panic stricken over the  corona...       1\n",
      "591  ইয়া আল্লাহ, আপনি ইতিমধ্যে তাদেরকে বিশ্বজুড়ে ...       0\n",
      "341  our  flatten the curve graphic is now up on @ ...       1\n",
      "594  মিচ covid-19 বিলে দ্বিপক্ষীয় কাজ পরিত্যাগ করে...       1\n",
      "324  @waltshaub please repost this . it shares vita...       0\n",
      "123                                                  text  labels\n",
      "11  so , the last week i have been battling co vid...       1\n",
      "23  bro china is out here reading niggas power lev...       0\n",
      "24  when this corona shit is over please invite me...       0\n",
      "32  dogs when they found out their owners can ’ t ...       0\n",
      "41  the world health organization warns young peop...       1\n"
     ]
    }
   ],
   "source": [
    "#multilingual model\n",
    "frames = [df, df_bn, df_hi]\n",
    "df_merged = pd.concat(frames)\n",
    "df_merged.index = range(len(df_merged))   #change indices\n",
    "train_set_merge, eval_set_merge, test_set_merge = split(df_merged)"
   ]
  },
  {
   "cell_type": "code",
   "execution_count": 12,
   "metadata": {
    "scrolled": true
   },
   "outputs": [
    {
     "data": {
      "application/vnd.jupyter.widget-view+json": {
       "model_id": "661a657ae019419a9560417bf639d553",
       "version_major": 2,
       "version_minor": 0
      },
      "text/plain": [
       "HBox(children=(FloatProgress(value=0.0, max=986.0), HTML(value='')))"
      ]
     },
     "metadata": {},
     "output_type": "display_data"
    },
    {
     "name": "stdout",
     "output_type": "stream",
     "text": [
      "\n"
     ]
    },
    {
     "data": {
      "application/vnd.jupyter.widget-view+json": {
       "model_id": "0de3da9616cc4227bda9422a87ba03e8",
       "version_major": 2,
       "version_minor": 0
      },
      "text/plain": [
       "HBox(children=(FloatProgress(value=0.0, description='Epoch', max=3.0, style=ProgressStyle(description_width='i…"
      ]
     },
     "metadata": {},
     "output_type": "display_data"
    },
    {
     "data": {
      "application/vnd.jupyter.widget-view+json": {
       "model_id": "20cc6b91f92f4e8f8d0a176d4d1ef8ba",
       "version_major": 2,
       "version_minor": 0
      },
      "text/plain": [
       "HBox(children=(FloatProgress(value=0.0, description='Running Epoch 0', max=124.0, style=ProgressStyle(descript…"
      ]
     },
     "metadata": {},
     "output_type": "display_data"
    },
    {
     "name": "stdout",
     "output_type": "stream",
     "text": [
      "Running loss: 0.724259"
     ]
    },
    {
     "name": "stderr",
     "output_type": "stream",
     "text": [
      "/home/debanjana_ibm/anaconda3/envs/covidfake/lib/python3.6/site-packages/torch/optim/lr_scheduler.py:231: UserWarning: To get the last learning rate computed by the scheduler, please use `get_last_lr()`.\n",
      "  warnings.warn(\"To get the last learning rate computed by the scheduler, \"\n"
     ]
    },
    {
     "name": "stdout",
     "output_type": "stream",
     "text": [
      "Running loss: 0.473049\n"
     ]
    },
    {
     "name": "stderr",
     "output_type": "stream",
     "text": [
      "/home/debanjana_ibm/anaconda3/envs/covidfake/lib/python3.6/site-packages/torch/optim/lr_scheduler.py:200: UserWarning: Please also save or load the state of the optimzer when saving or loading the scheduler.\n",
      "  warnings.warn(SAVE_STATE_WARNING, UserWarning)\n"
     ]
    },
    {
     "data": {
      "application/vnd.jupyter.widget-view+json": {
       "model_id": "a4e73bc5c7a644c583b389cdc8d31f5e",
       "version_major": 2,
       "version_minor": 0
      },
      "text/plain": [
       "HBox(children=(FloatProgress(value=0.0, description='Running Epoch 1', max=124.0, style=ProgressStyle(descript…"
      ]
     },
     "metadata": {},
     "output_type": "display_data"
    },
    {
     "name": "stdout",
     "output_type": "stream",
     "text": [
      "Running loss: 0.412328\n"
     ]
    },
    {
     "data": {
      "application/vnd.jupyter.widget-view+json": {
       "model_id": "ca28b9181f6f4891a926111baa15a476",
       "version_major": 2,
       "version_minor": 0
      },
      "text/plain": [
       "HBox(children=(FloatProgress(value=0.0, description='Running Epoch 2', max=124.0, style=ProgressStyle(descript…"
      ]
     },
     "metadata": {},
     "output_type": "display_data"
    },
    {
     "name": "stdout",
     "output_type": "stream",
     "text": [
      "Running loss: 0.013812\n",
      "\n"
     ]
    },
    {
     "data": {
      "application/vnd.jupyter.widget-view+json": {
       "model_id": "4be417ba78a847acb9688d319c24fd39",
       "version_major": 2,
       "version_minor": 0
      },
      "text/plain": [
       "HBox(children=(FloatProgress(value=0.0, max=123.0), HTML(value='')))"
      ]
     },
     "metadata": {},
     "output_type": "display_data"
    },
    {
     "name": "stdout",
     "output_type": "stream",
     "text": [
      "\n"
     ]
    },
    {
     "data": {
      "application/vnd.jupyter.widget-view+json": {
       "model_id": "07eaa5406cd04cf1b64d4f2be0a3e7d1",
       "version_major": 2,
       "version_minor": 0
      },
      "text/plain": [
       "HBox(children=(FloatProgress(value=0.0, description='Running Evaluation', max=16.0, style=ProgressStyle(descri…"
      ]
     },
     "metadata": {},
     "output_type": "display_data"
    },
    {
     "name": "stdout",
     "output_type": "stream",
     "text": [
      "\n",
      "--------------------------------\n",
      "Classification Results : \n",
      "Raw result =  {'mcc': 0.6276807925343189, 'tp': 69, 'tn': 33, 'fp': 12, 'fn': 9, 'f1': 0.8679245283018868, 'acc': 0.8292682926829268, 'eval_loss': 0.5542476478149183}\n",
      "Precision =  0.8518518518518519\n",
      "Recall =  0.8846153846153846\n",
      "F-Score =  0.8679245283018868\n"
     ]
    }
   ],
   "source": [
    "result_multi, model_outputs, wrong_predictions = fake_classify(train_set_merge, eval_set_merge, test_set_merge, path_multi)\n",
    "print('--------------------------------')\n",
    "print('Classification Results : ')\n",
    "results(result_multi)"
   ]
  },
  {
   "cell_type": "code",
   "execution_count": 14,
   "metadata": {},
   "outputs": [
    {
     "data": {
      "text/plain": [
       "\"with open('./resources/en_raw_outputs.pickle', 'wb') as pkl_out:\\n    pkl.dump(en_model_outputs, pkl_out)\\nwith open('./resources/bn_raw_outputs.pickle', 'wb') as pkl_out:\\n    pkl.dump(bn_model_outputs, pkl_out)\\nwith open('./resources/hi_raw_outputs.pickle', 'wb') as pkl_out:\\n    pkl.dump(hi_model_outputs, pkl_out)\""
      ]
     },
     "execution_count": 14,
     "metadata": {},
     "output_type": "execute_result"
    }
   ],
   "source": [
    "#storing model outputs of mono and multilingual models\n",
    "with open('./resources/multi_raw_outputs.pickle', 'wb') as pkl_out:\n",
    "    pkl.dump(model_outputs, pkl_out)\n",
    "'''with open('./resources/en_raw_outputs.pickle', 'wb') as pkl_out:\n",
    "    pkl.dump(en_model_outputs, pkl_out)\n",
    "with open('./resources/bn_raw_outputs.pickle', 'wb') as pkl_out:\n",
    "    pkl.dump(bn_model_outputs, pkl_out)\n",
    "with open('./resources/hi_raw_outputs.pickle', 'wb') as pkl_out:\n",
    "    pkl.dump(hi_model_outputs, pkl_out)'''"
   ]
  },
  {
   "cell_type": "code",
   "execution_count": 15,
   "metadata": {},
   "outputs": [],
   "source": [
    "def preprocess(tweet):\n",
    "    tweet = tweet.lower()\n",
    "    url = r'http\\S+'\n",
    "    tweet = re.sub(url, 'URL', tweet, flags=re.MULTILINE)\n",
    "    emoji = re.compile(\"[\"         u\"\\U0001F600-\\U0001F64F\"  # emoticons\n",
    "                                   u\"\\U0001F300-\\U0001F5FF\"  # symbols & pictographs\n",
    "                                   u\"\\U0001F680-\\U0001F6FF\"  # transport & map symbols\n",
    "                                   u\"\\U0001F1E0-\\U0001F1FF\"  # flags (iOS)\n",
    "                                   u\"\\U00002500-\\U00002BEF\"  # chinese char\n",
    "                                   u\"\\U00002702-\\U000027B0\"\n",
    "                                   u\"\\U00002702-\\U000027B0\"\n",
    "                                   u\"\\U000024C2-\\U0001F251\"\n",
    "                                   u\"\\U0001f926-\\U0001f937\"\n",
    "                                   u\"\\U00010000-\\U0010ffff\"\n",
    "                                   u\"\\u2640-\\u2642\"\n",
    "                                   u\"\\u2600-\\u2B55\"\n",
    "                                   u\"\\u200d\"\n",
    "                                   u\"\\u23cf\"\n",
    "                                   u\"\\u23e9\"\n",
    "                                   u\"\\u231a\"\n",
    "                                   u\"\\ufe0f\"  # dingbats\n",
    "                                   u\"\\u3030\"\n",
    "                                   \"]+\", flags=re.UNICODE)\n",
    "    tweet =  emoji.sub(r'', tweet)\n",
    "    tweet = ' '.join([word[1:] if word[0] == '#' else word for word in tweet.split()])\n",
    "    return tweet"
   ]
  },
  {
   "cell_type": "code",
   "execution_count": 16,
   "metadata": {},
   "outputs": [],
   "source": [
    "#getting predictions on real tweets\n",
    "def predict(path, sent):\n",
    "    model = torch.load(path)\n",
    "    sent = preprocess(sent)\n",
    "    p, ro = model.predict([sent])\n",
    "    c1 = np.exp(ro[0][0])/sum([np.exp(val) for val in ro[0]])\n",
    "    c2 = np.exp(ro[0][1])/sum([np.exp(val) for val in ro[0]])\n",
    "    result = 'This tweet has a verifiable claim.' if p[0] == 1 else 'This tweet does not have a verifiable claim.'\n",
    "    cscore = c2*100 if p[0] == 1 else c1*100\n",
    "    print(sent, ' : ', result)\n",
    "    print('The model says this with a',round(cscore, 2), '% confidence score.')"
   ]
  },
  {
   "cell_type": "code",
   "execution_count": 17,
   "metadata": {},
   "outputs": [
    {
     "name": "stdout",
     "output_type": "stream",
     "text": [
      "Our govt has pro-actively strengthened the medical infrastructure in the NE States to fight #COVID19. All states have a low number of cases. As on date, the active cases are 3731, the recoveries exceed this at 5715. No mortality in Manipur, Mizoram, Nagaland & Sikkim. @MoHFW_INDIA\n"
     ]
    },
    {
     "data": {
      "application/vnd.jupyter.widget-view+json": {
       "model_id": "cc1db604f43f476a954d2eec78d74ab2",
       "version_major": 2,
       "version_minor": 0
      },
      "text/plain": [
       "HBox(children=(FloatProgress(value=0.0, max=1.0), HTML(value='')))"
      ]
     },
     "metadata": {},
     "output_type": "display_data"
    },
    {
     "name": "stdout",
     "output_type": "stream",
     "text": [
      "\n"
     ]
    },
    {
     "data": {
      "application/vnd.jupyter.widget-view+json": {
       "model_id": "82381aa664ae464f9b8560d793efe6e6",
       "version_major": 2,
       "version_minor": 0
      },
      "text/plain": [
       "HBox(children=(FloatProgress(value=0.0, max=1.0), HTML(value='')))"
      ]
     },
     "metadata": {},
     "output_type": "display_data"
    },
    {
     "name": "stdout",
     "output_type": "stream",
     "text": [
      "\n",
      "our govt has pro-actively strengthened the medical infrastructure in the ne states to fight covid19. all states have a low number of cases. as on date, the active cases are 3731, the recoveries exceed this at 5715. no mortality in manipur, mizoram, nagaland & sikkim. @mohfw_india  :  This tweet has a verifiable claim.\n",
      "The model says this with a 96.9 % confidence score.\n"
     ]
    }
   ],
   "source": [
    "#predict english tweets\n",
    "sent = input()\n",
    "predict(path_en, sent)"
   ]
  },
  {
   "cell_type": "code",
   "execution_count": 18,
   "metadata": {},
   "outputs": [
    {
     "name": "stdout",
     "output_type": "stream",
     "text": [
      "Does taking a hot bath prevent #COVID19    NO. But daily bath is recommended to maintain good hygiene which may indirectly reduce the risk of many infections. #StaySafe #IndiaFightsCorona\n"
     ]
    },
    {
     "data": {
      "application/vnd.jupyter.widget-view+json": {
       "model_id": "f0f438c18088437ea637e92681157646",
       "version_major": 2,
       "version_minor": 0
      },
      "text/plain": [
       "HBox(children=(FloatProgress(value=0.0, max=1.0), HTML(value='')))"
      ]
     },
     "metadata": {},
     "output_type": "display_data"
    },
    {
     "name": "stdout",
     "output_type": "stream",
     "text": [
      "\n"
     ]
    },
    {
     "data": {
      "application/vnd.jupyter.widget-view+json": {
       "model_id": "c6290871950d440d87afdb861a1c600a",
       "version_major": 2,
       "version_minor": 0
      },
      "text/plain": [
       "HBox(children=(FloatProgress(value=0.0, max=1.0), HTML(value='')))"
      ]
     },
     "metadata": {},
     "output_type": "display_data"
    },
    {
     "name": "stdout",
     "output_type": "stream",
     "text": [
      "\n",
      "does taking a hot bath prevent covid19 no. but daily bath is recommended to maintain good hygiene which may indirectly reduce the risk of many infections. staysafe indiafightscorona  :  This tweet has a verifiable claim.\n",
      "The model says this with a 96.69 % confidence score.\n"
     ]
    }
   ],
   "source": [
    "#predict english tweets\n",
    "sent = input()\n",
    "predict(path_en, sent)"
   ]
  },
  {
   "cell_type": "code",
   "execution_count": null,
   "metadata": {},
   "outputs": [],
   "source": []
  },
  {
   "cell_type": "code",
   "execution_count": 19,
   "metadata": {},
   "outputs": [
    {
     "name": "stdout",
     "output_type": "stream",
     "text": [
      "করোনায় ১৩ ভাগ চাকরিজীবী বেকার হয়েছেন: বিআইডিএস https://p.dw.com/p/3eOdh #Bangladesh #coronavirus\n"
     ]
    },
    {
     "data": {
      "application/vnd.jupyter.widget-view+json": {
       "model_id": "3c827f41179f4352ad466e1c68f014e5",
       "version_major": 2,
       "version_minor": 0
      },
      "text/plain": [
       "HBox(children=(FloatProgress(value=0.0, max=1.0), HTML(value='')))"
      ]
     },
     "metadata": {},
     "output_type": "display_data"
    },
    {
     "name": "stdout",
     "output_type": "stream",
     "text": [
      "\n"
     ]
    },
    {
     "data": {
      "application/vnd.jupyter.widget-view+json": {
       "model_id": "689d601d2f464637bada848f73b4787b",
       "version_major": 2,
       "version_minor": 0
      },
      "text/plain": [
       "HBox(children=(FloatProgress(value=0.0, max=1.0), HTML(value='')))"
      ]
     },
     "metadata": {},
     "output_type": "display_data"
    },
    {
     "name": "stdout",
     "output_type": "stream",
     "text": [
      "\n",
      "করোনায় ১৩ ভাগ চাকরিজীবী বেকার হয়েছেন: বিআইডিএস URL bangladesh coronavirus  :  This tweet does not have a verifiable claim.\n",
      "The model says this with a 85.46 % confidence score.\n"
     ]
    }
   ],
   "source": [
    "#predict bengali tweets\n",
    "sent = input()\n",
    "predict(path_bn, sent)"
   ]
  },
  {
   "cell_type": "code",
   "execution_count": null,
   "metadata": {},
   "outputs": [],
   "source": [
    "#predict hindi tweets #example from BBC News Hindi\n",
    "sent = input()\n",
    "predict(path_hi, sent)"
   ]
  },
  {
   "cell_type": "code",
   "execution_count": 20,
   "metadata": {},
   "outputs": [
    {
     "name": "stdout",
     "output_type": "stream",
     "text": [
      "করোনায় ১৩ ভাগ চাকরিজীবী বেকার হয়েছেন: বিআইডিএস https://p.dw.com/p/3eOdh #Bangladesh #coronavirus\n"
     ]
    },
    {
     "data": {
      "application/vnd.jupyter.widget-view+json": {
       "model_id": "a8d2691a145f49859b01c14cef3a9856",
       "version_major": 2,
       "version_minor": 0
      },
      "text/plain": [
       "HBox(children=(FloatProgress(value=0.0, max=1.0), HTML(value='')))"
      ]
     },
     "metadata": {},
     "output_type": "display_data"
    },
    {
     "name": "stdout",
     "output_type": "stream",
     "text": [
      "\n"
     ]
    },
    {
     "data": {
      "application/vnd.jupyter.widget-view+json": {
       "model_id": "bbf9bbfa5a4b46929d70fa408d75666a",
       "version_major": 2,
       "version_minor": 0
      },
      "text/plain": [
       "HBox(children=(FloatProgress(value=0.0, max=1.0), HTML(value='')))"
      ]
     },
     "metadata": {},
     "output_type": "display_data"
    },
    {
     "name": "stdout",
     "output_type": "stream",
     "text": [
      "\n",
      "করোনায় ১৩ ভাগ চাকরিজীবী বেকার হয়েছেন: বিআইডিএস URL bangladesh coronavirus  :  This tweet has a verifiable claim.\n",
      "The model says this with a 98.65 % confidence score.\n"
     ]
    }
   ],
   "source": [
    "#predict multilingual tweets #example from DW Bangla account\n",
    "sent = input()\n",
    "predict(path_multi, sent)"
   ]
  }
 ],
 "metadata": {
  "kernelspec": {
   "display_name": "covidfake",
   "language": "python",
   "name": "covidfake"
  },
  "language_info": {
   "codemirror_mode": {
    "name": "ipython",
    "version": 3
   },
   "file_extension": ".py",
   "mimetype": "text/x-python",
   "name": "python",
   "nbconvert_exporter": "python",
   "pygments_lexer": "ipython3",
   "version": "3.6.10"
  }
 },
 "nbformat": 4,
 "nbformat_minor": 4
}
