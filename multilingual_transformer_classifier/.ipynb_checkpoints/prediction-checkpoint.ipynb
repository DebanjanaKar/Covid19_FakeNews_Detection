{
 "cells": [
  {
   "cell_type": "code",
   "execution_count": 4,
   "metadata": {},
   "outputs": [],
   "source": [
    "#!/usr/bin/env python3\n",
    "# -*- coding: utf-8 -*-\n",
    "\n",
    "\"\"\"\n",
    "@author: debanjana\n",
    "\"\"\"\n",
    "import torch\n",
    "import numpy as np\n",
    "import pandas as pd\n",
    "from simpletransformers.classification import ClassificationModel\n",
    "import re\n",
    "import sklearn\n",
    "\n",
    "torch.manual_seed(1)\n",
    "np.random.seed(1)\n",
    "\n",
    "def preprocess(tweet):\n",
    "    \n",
    "    tweet = tweet.lower()\n",
    "    url = r'http\\S+'\n",
    "    tweet = re.sub(url, 'URL', tweet, flags=re.MULTILINE)\n",
    "    emoji = re.compile(\"[\"         u\"\\U0001F600-\\U0001F64F\"  # emoticons\n",
    "                                   u\"\\U0001F300-\\U0001F5FF\"  # symbols & pictographs\n",
    "                                   u\"\\U0001F680-\\U0001F6FF\"  # transport & map symbols\n",
    "                                   u\"\\U0001F1E0-\\U0001F1FF\"  # flags (iOS)\n",
    "                                   u\"\\U00002500-\\U00002BEF\"  # chinese char\n",
    "                                   u\"\\U00002702-\\U000027B0\"\n",
    "                                   u\"\\U00002702-\\U000027B0\"\n",
    "                                   u\"\\U000024C2-\\U0001F251\"\n",
    "                                   u\"\\U0001f926-\\U0001f937\"\n",
    "                                   u\"\\U00010000-\\U0010ffff\"\n",
    "                                   u\"\\u2640-\\u2642\"\n",
    "                                   u\"\\u2600-\\u2B55\"\n",
    "                                   u\"\\u200d\"\n",
    "                                   u\"\\u23cf\"\n",
    "                                   u\"\\u23e9\"\n",
    "                                   u\"\\u231a\"\n",
    "                                   u\"\\ufe0f\"  # dingbats\n",
    "                                   u\"\\u3030\"\n",
    "                                   \"]+\", flags=re.UNICODE)\n",
    "    \n",
    "    tweet =  emoji.sub(r'', tweet)\n",
    "    \n",
    "    tweet = ' '.join([word[1:] if word[0] == '#' else word for word in tweet.split()])\n",
    "    \n",
    "    return tweet"
   ]
  },
  {
   "cell_type": "code",
   "execution_count": 3,
   "metadata": {},
   "outputs": [
    {
     "name": "stdout",
     "output_type": "stream",
     "text": [
      "covid get's cured by garlic.\n"
     ]
    },
    {
     "data": {
      "application/vnd.jupyter.widget-view+json": {
       "model_id": "8f67c469a30745fe8b9192e75921dc90",
       "version_major": 2,
       "version_minor": 0
      },
      "text/plain": [
       "HBox(children=(FloatProgress(value=0.0, max=1.0), HTML(value='')))"
      ]
     },
     "metadata": {},
     "output_type": "display_data"
    },
    {
     "name": "stdout",
     "output_type": "stream",
     "text": [
      "\n"
     ]
    },
    {
     "data": {
      "application/vnd.jupyter.widget-view+json": {
       "model_id": "dfcf6db2f34d494882595ab6096c7bda",
       "version_major": 2,
       "version_minor": 0
      },
      "text/plain": [
       "HBox(children=(FloatProgress(value=0.0, max=1.0), HTML(value='')))"
      ]
     },
     "metadata": {},
     "output_type": "display_data"
    },
    {
     "name": "stdout",
     "output_type": "stream",
     "text": [
      "\n",
      "covid get's cured by garlic.  :  This tweet does not have a verifiable claim.\n",
      "The model says this with a 92.82 % confidence score.\n"
     ]
    }
   ],
   "source": [
    "#getting predictions on real tweets\n",
    "def predict(path, sent):\n",
    "    \n",
    "    model = torch.load(path)\n",
    "    sent = preprocess(sent)\n",
    "    p, ro = model.predict([sent])\n",
    "    c1 = np.exp(ro[0][0])/sum([np.exp(val) for val in ro[0]])\n",
    "    c2 = np.exp(ro[0][1])/sum([np.exp(val) for val in ro[0]])\n",
    "    result = 'This tweet has a verifiable claim.' if p[0] == 1 else 'This tweet does not have a verifiable claim.'\n",
    "    cscore = c2*100 if p[0] == 1 else c1*100\n",
    "    print(sent, ' : ', result)\n",
    "    print('The model says this with a',round(cscore, 2), '% confidence score.')\n",
    "\n",
    "#predict    \n",
    "sent = input()\n",
    "predict('./models/multi_model', sent) #path_en is path to the model"
   ]
  },
  {
   "cell_type": "markdown",
   "metadata": {},
   "source": [
    "#examples :\n",
    "1. করোনায় ১৩ ভাগ চাকরিজীবী বেকার হয়েছেন: বিআইডিএস https://p.dw.com/p/3eOdh #Bangladesh #coronavirus\n",
    "2. Does taking a hot bath prevent #COVID19    NO. But daily bath is recommended to maintain good hygiene which may indirectly reduce the risk of many infections. #StaySafe #IndiaFightsCorona\n",
    "3. Our govt has pro-actively strengthened the medical infrastructure in the NE States to fight #COVID19. All states have a low number of cases. As on date, the active cases are 3731, the recoveries exceed this at 5715. No mortality in Manipur, Mizoram, Nagaland & Sikkim. @MoHFW_INDIA\n",
    "4. कोरोना वायरस की जीवन रक्षक दवाओं की भारत में काला बाज़ारी"
   ]
  }
 ],
 "metadata": {
  "kernelspec": {
   "display_name": "covidfake",
   "language": "python",
   "name": "covidfake"
  },
  "language_info": {
   "codemirror_mode": {
    "name": "ipython",
    "version": 3
   },
   "file_extension": ".py",
   "mimetype": "text/x-python",
   "name": "python",
   "nbconvert_exporter": "python",
   "pygments_lexer": "ipython3",
   "version": "3.6.10"
  }
 },
 "nbformat": 4,
 "nbformat_minor": 4
}
