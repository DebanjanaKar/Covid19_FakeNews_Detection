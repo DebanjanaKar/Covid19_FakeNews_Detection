{
 "cells": [
  {
   "cell_type": "code",
   "execution_count": 59,
   "metadata": {},
   "outputs": [
    {
     "data": {
      "text/html": [
       "<div>\n",
       "<style scoped>\n",
       "    .dataframe tbody tr th:only-of-type {\n",
       "        vertical-align: middle;\n",
       "    }\n",
       "\n",
       "    .dataframe tbody tr th {\n",
       "        vertical-align: top;\n",
       "    }\n",
       "\n",
       "    .dataframe thead th {\n",
       "        text-align: right;\n",
       "    }\n",
       "</style>\n",
       "<table border=\"1\" class=\"dataframe\">\n",
       "  <thead>\n",
       "    <tr style=\"text-align: right;\">\n",
       "      <th></th>\n",
       "      <th>tweet_id</th>\n",
       "      <th>text</th>\n",
       "      <th>Has_Verifiable_Claim</th>\n",
       "    </tr>\n",
       "  </thead>\n",
       "  <tbody>\n",
       "    <tr>\n",
       "      <th>0</th>\n",
       "      <td>1241025578527903750</td>\n",
       "      <td>For the average American the best way to tell ...</td>\n",
       "      <td>no</td>\n",
       "    </tr>\n",
       "    <tr>\n",
       "      <th>1</th>\n",
       "      <td>1240467080954228737</td>\n",
       "      <td>this is fucking bullshit</td>\n",
       "      <td>no</td>\n",
       "    </tr>\n",
       "    <tr>\n",
       "      <th>2</th>\n",
       "      <td>1240716889162018816</td>\n",
       "      <td>Can y’all please just follow the government’s ...</td>\n",
       "      <td>no</td>\n",
       "    </tr>\n",
       "    <tr>\n",
       "      <th>3</th>\n",
       "      <td>1241062514886090754</td>\n",
       "      <td>No offense but the corona virus disappearing b...</td>\n",
       "      <td>no</td>\n",
       "    </tr>\n",
       "    <tr>\n",
       "      <th>4</th>\n",
       "      <td>1241447017945223169</td>\n",
       "      <td>This is the face of someone who just spent 9 h...</td>\n",
       "      <td>yes</td>\n",
       "    </tr>\n",
       "    <tr>\n",
       "      <th>...</th>\n",
       "      <td>...</td>\n",
       "      <td>...</td>\n",
       "      <td>...</td>\n",
       "    </tr>\n",
       "    <tr>\n",
       "      <th>499</th>\n",
       "      <td>1235967176475111432</td>\n",
       "      <td>President Trump's comments about the coronavir...</td>\n",
       "      <td>yes</td>\n",
       "    </tr>\n",
       "    <tr>\n",
       "      <th>500</th>\n",
       "      <td>1236056191324864515</td>\n",
       "      <td>Drug companies reportedly killed a provision i...</td>\n",
       "      <td>yes</td>\n",
       "    </tr>\n",
       "    <tr>\n",
       "      <th>501</th>\n",
       "      <td>1235987075440283648</td>\n",
       "      <td>Does @twitter have a team fighting covid-19 ru...</td>\n",
       "      <td>no</td>\n",
       "    </tr>\n",
       "    <tr>\n",
       "      <th>502</th>\n",
       "      <td>1235959558058754048</td>\n",
       "      <td>#FOX to cause PANDEMIC  #FoxNews is spreading ...</td>\n",
       "      <td>yes</td>\n",
       "    </tr>\n",
       "    <tr>\n",
       "      <th>503</th>\n",
       "      <td>1235985070009221120</td>\n",
       "      <td>NURTW Lagos is already sensitizing their peopl...</td>\n",
       "      <td>yes</td>\n",
       "    </tr>\n",
       "  </tbody>\n",
       "</table>\n",
       "<p>504 rows × 3 columns</p>\n",
       "</div>"
      ],
      "text/plain": [
       "                tweet_id                                               text  \\\n",
       "0    1241025578527903750  For the average American the best way to tell ...   \n",
       "1    1240467080954228737                           this is fucking bullshit   \n",
       "2    1240716889162018816  Can y’all please just follow the government’s ...   \n",
       "3    1241062514886090754  No offense but the corona virus disappearing b...   \n",
       "4    1241447017945223169  This is the face of someone who just spent 9 h...   \n",
       "..                   ...                                                ...   \n",
       "499  1235967176475111432  President Trump's comments about the coronavir...   \n",
       "500  1236056191324864515  Drug companies reportedly killed a provision i...   \n",
       "501  1235987075440283648  Does @twitter have a team fighting covid-19 ru...   \n",
       "502  1235959558058754048  #FOX to cause PANDEMIC  #FoxNews is spreading ...   \n",
       "503  1235985070009221120  NURTW Lagos is already sensitizing their peopl...   \n",
       "\n",
       "    Has_Verifiable_Claim  \n",
       "0                     no  \n",
       "1                     no  \n",
       "2                     no  \n",
       "3                     no  \n",
       "4                    yes  \n",
       "..                   ...  \n",
       "499                  yes  \n",
       "500                  yes  \n",
       "501                   no  \n",
       "502                  yes  \n",
       "503                  yes  \n",
       "\n",
       "[504 rows x 3 columns]"
      ]
     },
     "execution_count": 59,
     "metadata": {},
     "output_type": "execute_result"
    }
   ],
   "source": [
    "#!/usr/bin/env python3\n",
    "# -*- coding: utf-8 -*-\n",
    "\n",
    "\"\"\"\n",
    "@author: debanjana\n",
    "\"\"\"\n",
    "\n",
    "#import matplotlib.pyplot as plt\n",
    "import pandas as pd \n",
    "\n",
    "df = pd.read_csv('./data/covid19_disinfo_data/English/covid19_infodemic_english_data.tsv', sep='\\t')\n",
    "df = df.drop(['q2_label', 'q3_label', 'q4_label', 'q5_label', 'q6_label', 'q7_label'], axis=1)\n",
    "df = df.rename(columns={'q1_label': 'Has_Verifiable_Claim'})\n",
    "df"
   ]
  },
  {
   "cell_type": "code",
   "execution_count": 202,
   "metadata": {},
   "outputs": [],
   "source": [
    "#translate to Indic languages\n",
    "from googletrans import Translator\n",
    "translator = Translator()\n",
    "\n",
    "#df_bangla = df.copy()\n",
    "#df_bangla['text'] = df_bangla['text'].apply(lambda text : translator.translate(text, dest='bn').text)\n",
    "\n",
    "df_hindi = df.copy()\n",
    "df_hindi['text'] = df_hindi['text'].apply(lambda text : translator.translate(text, dest='hi').text)\n"
   ]
  },
  {
   "cell_type": "code",
   "execution_count": 205,
   "metadata": {},
   "outputs": [],
   "source": [
    "#drop rows with english text\n",
    "#idx_drop_bn = [index for index, row in df_bangla.iterrows() if translator.detect(row['text']).lang == 'en']\n",
    "idx_drop_hi = [index for index, row in df_hindi.iterrows() if translator.detect(row['text']).lang == 'en']"
   ]
  },
  {
   "cell_type": "code",
   "execution_count": 206,
   "metadata": {},
   "outputs": [
    {
     "name": "stdout",
     "output_type": "stream",
     "text": [
      "349\n"
     ]
    }
   ],
   "source": [
    "df_hindi_mod = df_hindi.copy()\n",
    "df_hindi_mod = df_hindi_mod.drop(idx_drop_hi)\n",
    "print(len(df_hindi_mod))"
   ]
  },
  {
   "cell_type": "code",
   "execution_count": 175,
   "metadata": {},
   "outputs": [
    {
     "name": "stdout",
     "output_type": "stream",
     "text": [
      "380\n"
     ]
    }
   ],
   "source": [
    "df_bangla_mod = df_bangla.copy()\n",
    "df_bangla_mod = df_bangla_mod.drop(idx_drop_bn)\n",
    "print(len(df_bangla_mod))"
   ]
  },
  {
   "cell_type": "code",
   "execution_count": 176,
   "metadata": {},
   "outputs": [
    {
     "data": {
      "text/html": [
       "<div>\n",
       "<style scoped>\n",
       "    .dataframe tbody tr th:only-of-type {\n",
       "        vertical-align: middle;\n",
       "    }\n",
       "\n",
       "    .dataframe tbody tr th {\n",
       "        vertical-align: top;\n",
       "    }\n",
       "\n",
       "    .dataframe thead th {\n",
       "        text-align: right;\n",
       "    }\n",
       "</style>\n",
       "<table border=\"1\" class=\"dataframe\">\n",
       "  <thead>\n",
       "    <tr style=\"text-align: right;\">\n",
       "      <th></th>\n",
       "      <th>tweet_id</th>\n",
       "      <th>text</th>\n",
       "      <th>Has_Verifiable_Claim</th>\n",
       "    </tr>\n",
       "  </thead>\n",
       "  <tbody>\n",
       "    <tr>\n",
       "      <th>0</th>\n",
       "      <td>1241025578527903750</td>\n",
       "      <td>গড় আমেরিকানদের কাছে আপনার কোভিড -১৯ আছে কিনা ...</td>\n",
       "      <td>no</td>\n",
       "    </tr>\n",
       "    <tr>\n",
       "      <th>1</th>\n",
       "      <td>1240467080954228737</td>\n",
       "      <td>এই বকশি বাজানো হয়</td>\n",
       "      <td>no</td>\n",
       "    </tr>\n",
       "    <tr>\n",
       "      <th>2</th>\n",
       "      <td>1240716889162018816</td>\n",
       "      <td>আপনি কি দয়া করে কেবলমাত্র সরকারের নির্দেশাবলী...</td>\n",
       "      <td>no</td>\n",
       "    </tr>\n",
       "    <tr>\n",
       "      <th>3</th>\n",
       "      <td>1241062514886090754</td>\n",
       "      <td>কোনও অপরাধ নয় তবে এপ্রিলের আগে সফল হওয়ার আগে...</td>\n",
       "      <td>no</td>\n",
       "    </tr>\n",
       "    <tr>\n",
       "      <th>4</th>\n",
       "      <td>1241447017945223169</td>\n",
       "      <td>লন্ডনের আশেপাশের গুরুতর অসুস্থ কোভিড ১৯ রোগীদে...</td>\n",
       "      <td>yes</td>\n",
       "    </tr>\n",
       "    <tr>\n",
       "      <th>...</th>\n",
       "      <td>...</td>\n",
       "      <td>...</td>\n",
       "      <td>...</td>\n",
       "    </tr>\n",
       "    <tr>\n",
       "      <th>423</th>\n",
       "      <td>1237585675571974145</td>\n",
       "      <td>যদি এই টুইটটিতে 10 কেটি আরটি হয়, আমি লিন উপত্...</td>\n",
       "      <td>no</td>\n",
       "    </tr>\n",
       "    <tr>\n",
       "      <th>426</th>\n",
       "      <td>1237412870192640005</td>\n",
       "      <td>আমাদের কীভাবে সম্ভাব্য COVID-19 ক্ষেত্রে যোগায...</td>\n",
       "      <td>no</td>\n",
       "    </tr>\n",
       "    <tr>\n",
       "      <th>427</th>\n",
       "      <td>1237219650456489984</td>\n",
       "      <td>মিডিয়া কর্নাভাইরাস পেয়ে কনজারভেটিভদের উদযাপন...</td>\n",
       "      <td>yes</td>\n",
       "    </tr>\n",
       "    <tr>\n",
       "      <th>429</th>\n",
       "      <td>1237137755651616770</td>\n",
       "      <td>যদি করোনা এখানে কেবলমাত্র লোকেরা পাচ্ছে তবে .....</td>\n",
       "      <td>no</td>\n",
       "    </tr>\n",
       "    <tr>\n",
       "      <th>436</th>\n",
       "      <td>1237608143519014913</td>\n",
       "      <td>তুমি কর. আমি শুনেছি এটি শূকরদের একটি বৃহতভাবে ...</td>\n",
       "      <td>no</td>\n",
       "    </tr>\n",
       "  </tbody>\n",
       "</table>\n",
       "<p>380 rows × 3 columns</p>\n",
       "</div>"
      ],
      "text/plain": [
       "                tweet_id                                               text  \\\n",
       "0    1241025578527903750  গড় আমেরিকানদের কাছে আপনার কোভিড -১৯ আছে কিনা ...   \n",
       "1    1240467080954228737                                 এই বকশি বাজানো হয়   \n",
       "2    1240716889162018816  আপনি কি দয়া করে কেবলমাত্র সরকারের নির্দেশাবলী...   \n",
       "3    1241062514886090754  কোনও অপরাধ নয় তবে এপ্রিলের আগে সফল হওয়ার আগে...   \n",
       "4    1241447017945223169  লন্ডনের আশেপাশের গুরুতর অসুস্থ কোভিড ১৯ রোগীদে...   \n",
       "..                   ...                                                ...   \n",
       "423  1237585675571974145  যদি এই টুইটটিতে 10 কেটি আরটি হয়, আমি লিন উপত্...   \n",
       "426  1237412870192640005  আমাদের কীভাবে সম্ভাব্য COVID-19 ক্ষেত্রে যোগায...   \n",
       "427  1237219650456489984  মিডিয়া কর্নাভাইরাস পেয়ে কনজারভেটিভদের উদযাপন...   \n",
       "429  1237137755651616770  যদি করোনা এখানে কেবলমাত্র লোকেরা পাচ্ছে তবে .....   \n",
       "436  1237608143519014913  তুমি কর. আমি শুনেছি এটি শূকরদের একটি বৃহতভাবে ...   \n",
       "\n",
       "    Has_Verifiable_Claim  \n",
       "0                     no  \n",
       "1                     no  \n",
       "2                     no  \n",
       "3                     no  \n",
       "4                    yes  \n",
       "..                   ...  \n",
       "423                   no  \n",
       "426                   no  \n",
       "427                  yes  \n",
       "429                   no  \n",
       "436                   no  \n",
       "\n",
       "[380 rows x 3 columns]"
      ]
     },
     "execution_count": 176,
     "metadata": {},
     "output_type": "execute_result"
    }
   ],
   "source": [
    "df_bangla_mod"
   ]
  },
  {
   "cell_type": "code",
   "execution_count": 227,
   "metadata": {},
   "outputs": [],
   "source": [
    "def preprocess(df_lang):\n",
    "    \n",
    "    import re\n",
    "    tweets = {}\n",
    "    tweets['text_info'] = {}\n",
    "\n",
    "    #extract text\n",
    "    tweets['text'] = df_lang['text']\n",
    "    \n",
    "    #extract labels\n",
    "    tweets['labels'] = df_lang['Has_Verifiable_Claim'].apply(lambda label : 1 if label == 'yes' else 0)\n",
    "    \n",
    "    #text features\n",
    "    tweets['text_info']['len'] =  tweets['text'].apply(lambda x: len(x))\n",
    "    tweets['text_info']['num_of_upper_char'] = tweets['text'].apply(lambda text: sum([len([char for char in word if char.isupper()]) for word in text]))\n",
    "    tweets['text_info']['has_qmarks'] = tweets['text'].apply(lambda text: True if '?' in text else False) \n",
    "    tweets['text_info']['num_of_qmarks'] = tweets['text'].apply(lambda text: sum([len([char for char in word if char == '?']) for word in text])) \n",
    "    tweets['text_info']['has_exclmmarks'] = tweets['text'].apply(lambda text: True if '!' in text else False)\n",
    "    tweets['text_info']['num_of_exclmmarks'] = tweets['text'].apply(lambda text: sum([len([char for char in word if char == '!']) for word in text]))\n",
    "                                                \n",
    "    #lowercase all words\n",
    "    tweets['text'] = tweets['text'].apply(lambda x: x.lower())\n",
    "\n",
    "    #remove urls\n",
    "    url = r'http\\S+'\n",
    "    tweets['text'] = tweets['text'].apply(lambda x: re.sub(url, 'URL', x, flags=re.MULTILINE))\n",
    "\n",
    "    #remove emojis\n",
    "    emoji = re.compile(\"[\"         u\"\\U0001F600-\\U0001F64F\"  # emoticons\n",
    "                                   u\"\\U0001F300-\\U0001F5FF\"  # symbols & pictographs\n",
    "                                   u\"\\U0001F680-\\U0001F6FF\"  # transport & map symbols\n",
    "                                   u\"\\U0001F1E0-\\U0001F1FF\"  # flags (iOS)\n",
    "                                   u\"\\U00002500-\\U00002BEF\"  # chinese char\n",
    "                                   u\"\\U00002702-\\U000027B0\"\n",
    "                                   u\"\\U00002702-\\U000027B0\"\n",
    "                                   u\"\\U000024C2-\\U0001F251\"\n",
    "                                   u\"\\U0001f926-\\U0001f937\"\n",
    "                                   u\"\\U00010000-\\U0010ffff\"\n",
    "                                   u\"\\u2640-\\u2642\"\n",
    "                                   u\"\\u2600-\\u2B55\"\n",
    "                                   u\"\\u200d\"\n",
    "                                   u\"\\u23cf\"\n",
    "                                   u\"\\u23e9\"\n",
    "                                   u\"\\u231a\"\n",
    "                                   u\"\\ufe0f\"  # dingbats\n",
    "                                   u\"\\u3030\"\n",
    "                                   \"]+\", flags=re.UNICODE)\n",
    "    tweets['text'] = tweets['text'].apply(lambda x: emoji.sub(r'', x))\n",
    "    \n",
    "    \n",
    "    #uncomment for english\n",
    "    '''from ekphrasis.classes.segmenter import Segmenter\n",
    "    #segmenter using the word statistics from Twitter\n",
    "    #if not working..go to /anaconda3/envs/covidfake/lib/python3.6/site-packages/ekphrasis/examples..run demo_segmenter to create reqd files\n",
    "    #that will create stats file in your home directory : /home/debanjana_ibm/.ekphrasis/\n",
    "    seg_tw = Segmenter(corpus='twitter')\n",
    "    tweets['text'] = tweets['text'].apply(lambda x:[seg_tw.segment(word) for word in x])\n",
    "    tweets['text'] = tweets['text'].apply(lambda x:[word[1:] if word[0] == '#' else word for word in x])'''\n",
    "    tweets['text'] = tweets['text'].apply(lambda x:[word[1:] if word[0] == '#' else word for word in x.split()])\n",
    "    \n",
    "    #rejoin to form a sentence\n",
    "    tweets['text'] = tweets['text'].apply(lambda x: ' '.join(x))\n",
    "    \n",
    "    \n",
    "    return tweets"
   ]
  },
  {
   "cell_type": "code",
   "execution_count": 132,
   "metadata": {
    "scrolled": true
   },
   "outputs": [
    {
     "name": "stdout",
     "output_type": "stream",
     "text": [
      "Reading twitter - 1grams ...\n",
      "Reading twitter - 2grams ...\n",
      "504\n",
      "-------------------------------------------\n",
      "Original message :  #FOX to cause PANDEMIC  #FoxNews is spreading #Trump's #CORONAVIRUS LIES faster than the disease itself  Steer clear of MAGA hats: They're being told the whole thing is a HOAX, and their leader's got it under control, go to work  #MOG☘️ #Christians #MAGA https://t.co/RmrDtoL4bE\n",
      "-------------------------------------------\n",
      "Preprocessed message :  fox to cause pandemic  fox news is spreading  trump ' s  coronavirus lies faster than the disease itself steer clear of maga hats : they ' re being told the whole thing is a hoax , and their leader ' s got it under control , go to work mog  christians maga url\n",
      "-------------------------------------------\n",
      "Message has verifiable claim :  1\n"
     ]
    }
   ],
   "source": [
    "#preprocessing English tweets\n",
    "tweets = preprocess(df)\n",
    "#length of tweets\n",
    "print(len(tweets['text']))\n",
    "print('-------------------------------------------')\n",
    "#original text\n",
    "print('Original message : ', df.iloc[502]['text'] )\n",
    "print('-------------------------------------------')\n",
    "#preprocessed text\n",
    "print('Preprocessed message : ', tweets['text'][502])\n",
    "print('-------------------------------------------')\n",
    "#preprocessed text\n",
    "print('Message has verifiable claim : ', tweets['labels'][502])"
   ]
  },
  {
   "cell_type": "code",
   "execution_count": 123,
   "metadata": {
    "scrolled": true
   },
   "outputs": [
    {
     "name": "stdout",
     "output_type": "stream",
     "text": [
      "Tweet Info Length .. 0      134\n",
      "1       24\n",
      "2      218\n",
      "3       72\n",
      "4      292\n",
      "      ... \n",
      "499    247\n",
      "500    275\n",
      "501    273\n",
      "502    278\n",
      "503    237\n",
      "Name: text, Length: 504, dtype: int64\n",
      "-------------------------------------------------\n",
      "Tweet # upper case chars .. 0       2\n",
      "1       0\n",
      "2       7\n",
      "3       2\n",
      "4       7\n",
      "       ..\n",
      "499     5\n",
      "500     5\n",
      "501     3\n",
      "502    51\n",
      "503    30\n",
      "Name: text, Length: 504, dtype: int64\n",
      "-------------------------------------------------\n",
      "Tweet has ? .. 0      False\n",
      "1      False\n",
      "2       True\n",
      "3      False\n",
      "4      False\n",
      "       ...  \n",
      "499    False\n",
      "500    False\n",
      "501    False\n",
      "502    False\n",
      "503    False\n",
      "Name: text, Length: 504, dtype: bool\n",
      "-------------------------------------------------\n",
      "Tweet # ? .. 0      0\n",
      "1      0\n",
      "2      1\n",
      "3      0\n",
      "4      0\n",
      "      ..\n",
      "499    0\n",
      "500    0\n",
      "501    0\n",
      "502    0\n",
      "503    0\n",
      "Name: text, Length: 504, dtype: int64\n",
      "-------------------------------------------------\n",
      "Tweet has ! .. 0      False\n",
      "1      False\n",
      "2       True\n",
      "3      False\n",
      "4      False\n",
      "       ...  \n",
      "499    False\n",
      "500    False\n",
      "501    False\n",
      "502    False\n",
      "503    False\n",
      "Name: text, Length: 504, dtype: bool\n",
      "-------------------------------------------------\n",
      "Tweet # ! .. 0      0\n",
      "1      0\n",
      "2      1\n",
      "3      0\n",
      "4      0\n",
      "      ..\n",
      "499    0\n",
      "500    0\n",
      "501    0\n",
      "502    0\n",
      "503    0\n",
      "Name: text, Length: 504, dtype: int64\n"
     ]
    }
   ],
   "source": [
    "#checking extracted sentential features of tweets\n",
    "print('Tweet Info Length ..', tweets['text_info']['len'])\n",
    "print('-------------------------------------------------')\n",
    "print('Tweet # upper case chars ..', tweets['text_info']['num_of_upper_char'])\n",
    "print('-------------------------------------------------')\n",
    "print('Tweet has ? ..', tweets['text_info']['has_qmarks'])\n",
    "print('-------------------------------------------------')\n",
    "print('Tweet # ? ..', tweets['text_info']['num_of_qmarks'])\n",
    "print('-------------------------------------------------')\n",
    "print('Tweet has ! ..', tweets['text_info']['has_exclmmarks'])\n",
    "print('-------------------------------------------------')\n",
    "print('Tweet # ! ..', tweets['text_info']['num_of_exclmmarks'])"
   ]
  },
  {
   "cell_type": "code",
   "execution_count": 192,
   "metadata": {},
   "outputs": [
    {
     "name": "stdout",
     "output_type": "stream",
     "text": [
      "380\n",
      "-------------------------------------------\n",
      "Original message :  আমাদের কীভাবে সম্ভাব্য COVID-19 ক্ষেত্রে যোগাযোগ করা উচিত? এখানে ডিওএইচ-পিএসএমআইডি টাস্কফোর্সের 09 মার্চ 2020 নির্দেশিকাগুলির উপর ভিত্তি করে আমি একটি ইনফোগ্রাফিক তৈরি করেছি। আশা করি আমরা ক্রমবর্ধমান হুমকির মুখোমুখি হওয়ায় এটি আমাদের এইচসিপিগুলিকে সহায়তা করবে। সবাই নিরাপদে থাকুন। https://t.co/cjvvm52Yx0\n",
      "-------------------------------------------\n",
      "Preprocessed message :  আমাদের কীভাবে সম্ভাব্য covid-19 ক্ষেত্রে যোগাযোগ করা উচিত? এখানে ডিওএইচ-পিএসএমআইডি টাস্কফোর্সের 09 মার্চ 2020 নির্দেশিকাগুলির উপর ভিত্তি করে আমি একটি ইনফোগ্রাফিক তৈরি করেছি। আশা করি আমরা ক্রমবর্ধমান হুমকির মুখোমুখি হওয়ায় এটি আমাদের এইচসিপিগুলিকে সহায়তা করবে। সবাই নিরাপদে থাকুন। URL\n",
      "-------------------------------------------\n",
      "Message has verifiable claim :  1\n"
     ]
    }
   ],
   "source": [
    "#preprocessing Bengali Tweets\n",
    "tweets_bn = preprocess(df_bangla_mod)\n",
    "#length of tweets_bn\n",
    "print(len(tweets_bn['text']))\n",
    "print('-------------------------------------------')\n",
    "#original text\n",
    "print('Original message : ', df_bangla_mod.iloc[376]['text'] )\n",
    "print('-------------------------------------------')\n",
    "#preprocessed text\n",
    "print('Preprocessed message : ', tweets_bn['text'][426])\n",
    "print('-------------------------------------------')\n",
    "#preprocessed text\n",
    "print('Message has verifiable claim : ', tweets_bn['labels'][376])"
   ]
  },
  {
   "cell_type": "code",
   "execution_count": 207,
   "metadata": {},
   "outputs": [
    {
     "data": {
      "text/html": [
       "<div>\n",
       "<style scoped>\n",
       "    .dataframe tbody tr th:only-of-type {\n",
       "        vertical-align: middle;\n",
       "    }\n",
       "\n",
       "    .dataframe tbody tr th {\n",
       "        vertical-align: top;\n",
       "    }\n",
       "\n",
       "    .dataframe thead th {\n",
       "        text-align: right;\n",
       "    }\n",
       "</style>\n",
       "<table border=\"1\" class=\"dataframe\">\n",
       "  <thead>\n",
       "    <tr style=\"text-align: right;\">\n",
       "      <th></th>\n",
       "      <th>tweet_id</th>\n",
       "      <th>text</th>\n",
       "      <th>Has_Verifiable_Claim</th>\n",
       "    </tr>\n",
       "  </thead>\n",
       "  <tbody>\n",
       "    <tr>\n",
       "      <th>0</th>\n",
       "      <td>1241025578527903750</td>\n",
       "      <td>औसत अमेरिकी के लिए यह बताने का सबसे अच्छा तरीक...</td>\n",
       "      <td>no</td>\n",
       "    </tr>\n",
       "    <tr>\n",
       "      <th>1</th>\n",
       "      <td>1240467080954228737</td>\n",
       "      <td>यह बकवास है</td>\n",
       "      <td>no</td>\n",
       "    </tr>\n",
       "    <tr>\n",
       "      <th>2</th>\n",
       "      <td>1240716889162018816</td>\n",
       "      <td>क्या आप कृपया सरकार के निर्देशों का पालन कर सक...</td>\n",
       "      <td>no</td>\n",
       "    </tr>\n",
       "    <tr>\n",
       "      <th>3</th>\n",
       "      <td>1241062514886090754</td>\n",
       "      <td>कोई अपराध नहीं है लेकिन अप्रैल से पहले गायब हो...</td>\n",
       "      <td>no</td>\n",
       "    </tr>\n",
       "    <tr>\n",
       "      <th>4</th>\n",
       "      <td>1241447017945223169</td>\n",
       "      <td>यह किसी ऐसे व्यक्ति का चेहरा है जिसने लंदन के ...</td>\n",
       "      <td>yes</td>\n",
       "    </tr>\n",
       "    <tr>\n",
       "      <th>...</th>\n",
       "      <td>...</td>\n",
       "      <td>...</td>\n",
       "      <td>...</td>\n",
       "    </tr>\n",
       "    <tr>\n",
       "      <th>409</th>\n",
       "      <td>1237015260571168768</td>\n",
       "      <td>JUST IN: राष्ट्रपति डॉटरे ने 10 मार्च से 14 मा...</td>\n",
       "      <td>yes</td>\n",
       "    </tr>\n",
       "    <tr>\n",
       "      <th>415</th>\n",
       "      <td>1236817440606056448</td>\n",
       "      <td>BREAKING NEWS: मेयर जॉय बेलमोंटे के अनुसार, Qu...</td>\n",
       "      <td>yes</td>\n",
       "    </tr>\n",
       "    <tr>\n",
       "      <th>416</th>\n",
       "      <td>1237283622589206530</td>\n",
       "      <td># इटली में हमने एक भयानक गलती की, हर कोई कहता ...</td>\n",
       "      <td>yes</td>\n",
       "    </tr>\n",
       "    <tr>\n",
       "      <th>418</th>\n",
       "      <td>1237611886905937920</td>\n",
       "      <td>अपने होम्स के चारों ओर एक लड़की लाएँ और अचानक ...</td>\n",
       "      <td>no</td>\n",
       "    </tr>\n",
       "    <tr>\n",
       "      <th>437</th>\n",
       "      <td>1237024126889385986</td>\n",
       "      <td>कोरोना oppa pls उर दुनिया दौरे hyung यू को आरा...</td>\n",
       "      <td>no</td>\n",
       "    </tr>\n",
       "  </tbody>\n",
       "</table>\n",
       "<p>349 rows × 3 columns</p>\n",
       "</div>"
      ],
      "text/plain": [
       "                tweet_id                                               text  \\\n",
       "0    1241025578527903750  औसत अमेरिकी के लिए यह बताने का सबसे अच्छा तरीक...   \n",
       "1    1240467080954228737                                        यह बकवास है   \n",
       "2    1240716889162018816  क्या आप कृपया सरकार के निर्देशों का पालन कर सक...   \n",
       "3    1241062514886090754  कोई अपराध नहीं है लेकिन अप्रैल से पहले गायब हो...   \n",
       "4    1241447017945223169  यह किसी ऐसे व्यक्ति का चेहरा है जिसने लंदन के ...   \n",
       "..                   ...                                                ...   \n",
       "409  1237015260571168768  JUST IN: राष्ट्रपति डॉटरे ने 10 मार्च से 14 मा...   \n",
       "415  1236817440606056448  BREAKING NEWS: मेयर जॉय बेलमोंटे के अनुसार, Qu...   \n",
       "416  1237283622589206530  # इटली में हमने एक भयानक गलती की, हर कोई कहता ...   \n",
       "418  1237611886905937920  अपने होम्स के चारों ओर एक लड़की लाएँ और अचानक ...   \n",
       "437  1237024126889385986  कोरोना oppa pls उर दुनिया दौरे hyung यू को आरा...   \n",
       "\n",
       "    Has_Verifiable_Claim  \n",
       "0                     no  \n",
       "1                     no  \n",
       "2                     no  \n",
       "3                     no  \n",
       "4                    yes  \n",
       "..                   ...  \n",
       "409                  yes  \n",
       "415                  yes  \n",
       "416                  yes  \n",
       "418                   no  \n",
       "437                   no  \n",
       "\n",
       "[349 rows x 3 columns]"
      ]
     },
     "execution_count": 207,
     "metadata": {},
     "output_type": "execute_result"
    }
   ],
   "source": [
    "df_hindi_mod"
   ]
  },
  {
   "cell_type": "code",
   "execution_count": 210,
   "metadata": {},
   "outputs": [
    {
     "name": "stdout",
     "output_type": "stream",
     "text": [
      "349\n",
      "-------------------------------------------\n",
      "Original message :  कोरोना oppa pls उर दुनिया दौरे hyung यू को आराम करने की जरूरत है\n",
      "-------------------------------------------\n",
      "Preprocessed message :  कोरोना oppa pls उर दुनिया दौरे hyung यू को आराम करने की जरूरत है\n",
      "-------------------------------------------\n",
      "Message has verifiable claim :  0\n"
     ]
    }
   ],
   "source": [
    "#preprocessing Hindi Tweets\n",
    "tweets_hi = preprocess(df_hindi_mod)\n",
    "#length of tweets_hi\n",
    "print(len(tweets_hi['text']))\n",
    "print('-------------------------------------------')\n",
    "#original text\n",
    "print('Original message : ', df_hindi_mod.iloc[348]['text'] )\n",
    "print('-------------------------------------------')\n",
    "#preprocessed text\n",
    "print('Preprocessed message : ', tweets_hi['text'][437])\n",
    "print('-------------------------------------------')\n",
    "#preprocessed text\n",
    "print('Message has verifiable claim : ', tweets_hi['labels'][437])"
   ]
  },
  {
   "cell_type": "code",
   "execution_count": 212,
   "metadata": {},
   "outputs": [],
   "source": [
    "#saving tweet info\n",
    "import pickle as pkl\n",
    "with open('./resources/covid_en_tweet.pickle', 'wb') as pkl_out:\n",
    "    pkl.dump(tweets, pkl_out)\n",
    "with open('./resources/covid_bn_tweet.pickle', 'wb') as pkl_out:\n",
    "    pkl.dump(tweets_bn, pkl_out)\n",
    "with open('./resources/covid_hi_tweet.pickle', 'wb') as pkl_out:\n",
    "    pkl.dump(tweets_hi, pkl_out)"
   ]
  },
  {
   "cell_type": "code",
   "execution_count": 230,
   "metadata": {},
   "outputs": [
    {
     "name": "stderr",
     "output_type": "stream",
     "text": [
      "/home/debanjana_ibm/anaconda3/envs/covidfake/lib/python3.6/site-packages/ipykernel_launcher.py:9: FutureWarning: pandas.io.json.json_normalize is deprecated, use pandas.json_normalize instead\n",
      "  if __name__ == '__main__':\n"
     ]
    },
    {
     "name": "stdout",
     "output_type": "stream",
     "text": [
      "No. of User features :  174\n",
      "Sample user features :  Index(['created_at', 'id', 'id_str', 'full_text', 'truncated',\n",
      "       'display_text_range', 'source', 'in_reply_to_status_id',\n",
      "       'in_reply_to_status_id_str', 'in_reply_to_user_id'],\n",
      "      dtype='object')\n"
     ]
    }
   ],
   "source": [
    "#get metadata\n",
    "from pandas.io.json import json_normalize \n",
    "import json\n",
    "\n",
    "url = './data/covid19_disinfo_data/English/covid19_infodemic_english_data.json'\n",
    "d = [json.loads(line) for line in open(url, 'r')] #JSON dump has one object per line, hence this works\n",
    "#print (d)\n",
    "\n",
    "df_meta = json_normalize(d)\n",
    "print('No. of User features : ', len(df_meta.columns))\n",
    "print('Sample user features : ', df_meta.columns[:10])"
   ]
  },
  {
   "cell_type": "code",
   "execution_count": 232,
   "metadata": {
    "scrolled": true
   },
   "outputs": [],
   "source": [
    "user_fts = ['user.screen_name','user.location','user.description','user.protected','user.followers_count','user.friends_count','user.created_at','user.favourites_count','user.geo_enabled','user.verified','user.statuses_count','quoted_status.created_at','created_at','quoted_status.retweet_count','quoted_status.favorite_count','retweet_count','favorite_count']\n",
    "df_meta = df_meta[user_fts]"
   ]
  },
  {
   "cell_type": "code",
   "execution_count": 226,
   "metadata": {},
   "outputs": [
    {
     "name": "stdout",
     "output_type": "stream",
     "text": [
      "Yes :  305 No :  199\n"
     ]
    },
    {
     "data": {
      "text/plain": [
       "<matplotlib.axes._subplots.AxesSubplot at 0x7f658665e5c0>"
      ]
     },
     "execution_count": 226,
     "metadata": {},
     "output_type": "execute_result"
    },
    {
     "data": {
      "image/png": "[encoded data removed]",
      "text/plain": [
       "<Figure size 432x288 with 1 Axes>"
      ]
     },
     "metadata": {
      "needs_background": "light"
     },
     "output_type": "display_data"
    }
   ],
   "source": [
    "#english dataset stats\n",
    "import seaborn as sns\n",
    "import matplotlib.pyplot\n",
    "lst = df['Has_Verifiable_Claim'].to_list()\n",
    "print('Yes : ', lst.count('yes'), 'No : ', lst.count('no') )\n",
    "df_plot = pd.DataFrame({'label':['Yes', 'No'], 'count':[lst.count('yes'), lst.count('no')]})\n",
    "df_plot.plot.bar(x='label', y='count', rot=0)"
   ]
  },
  {
   "cell_type": "code",
   "execution_count": 225,
   "metadata": {},
   "outputs": [
    {
     "name": "stdout",
     "output_type": "stream",
     "text": [
      "Yes :  227 No :  153\n"
     ]
    },
    {
     "data": {
      "text/plain": [
       "<matplotlib.axes._subplots.AxesSubplot at 0x7f658667b668>"
      ]
     },
     "execution_count": 225,
     "metadata": {},
     "output_type": "execute_result"
    },
    {
     "data": {
      "image/png": "[encoded data removed]",
      "text/plain": [
       "<Figure size 432x288 with 1 Axes>"
      ]
     },
     "metadata": {
      "needs_background": "light"
     },
     "output_type": "display_data"
    }
   ],
   "source": [
    "#bengali dataset stats\n",
    "lst = df_bangla_mod['Has_Verifiable_Claim'].to_list()\n",
    "print('Yes : ', lst.count('yes'), 'No : ', lst.count('no') )\n",
    "df_plot = pd.DataFrame({'label':['Yes', 'No'], 'count':[lst.count('yes'), lst.count('no')]})\n",
    "df_plot.plot.bar(x='label', y='count', rot=0)"
   ]
  },
  {
   "cell_type": "code",
   "execution_count": 224,
   "metadata": {},
   "outputs": [
    {
     "name": "stdout",
     "output_type": "stream",
     "text": [
      "Yes :  206 No :  143\n"
     ]
    },
    {
     "data": {
      "text/plain": [
       "<matplotlib.axes._subplots.AxesSubplot at 0x7f6586718978>"
      ]
     },
     "execution_count": 224,
     "metadata": {},
     "output_type": "execute_result"
    },
    {
     "data": {
      "image/png": "[encoded data removed]",
      "text/plain": [
       "<Figure size 432x288 with 1 Axes>"
      ]
     },
     "metadata": {
      "needs_background": "light"
     },
     "output_type": "display_data"
    }
   ],
   "source": [
    "#hindi dataset stats\n",
    "lst = df_hindi_mod['Has_Verifiable_Claim'].to_list()\n",
    "print('Yes : ', lst.count('yes'), 'No : ', lst.count('no') )\n",
    "df_plot = pd.DataFrame({'label':['Yes', 'No'], 'count':[lst.count('yes'), lst.count('no')]})\n",
    "df_plot.plot.bar(x='label', y='count', rot=0)"
   ]
  }
 ],
 "metadata": {
  "kernelspec": {
   "display_name": "covidfake",
   "language": "python",
   "name": "covidfake"
  },
  "language_info": {
   "codemirror_mode": {
    "name": "ipython",
    "version": 3
   },
   "file_extension": ".py",
   "mimetype": "text/x-python",
   "name": "python",
   "nbconvert_exporter": "python",
   "pygments_lexer": "ipython3",
   "version": "3.6.10"
  }
 },
 "nbformat": 4,
 "nbformat_minor": 4
}
