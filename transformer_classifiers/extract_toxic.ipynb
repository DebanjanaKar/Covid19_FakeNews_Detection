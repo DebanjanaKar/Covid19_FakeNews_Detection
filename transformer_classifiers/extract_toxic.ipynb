{
 "cells": [
  {
   "cell_type": "code",
   "execution_count": 7,
   "metadata": {},
   "outputs": [],
   "source": [
    "#!/usr/bin/env python3\n",
    "# -*- coding: utf-8 -*-\n",
    "\n",
    "\"\"\"\n",
    "@author: debanjana\n",
    "\"\"\"\n",
    "\n",
    "from profanity_check import predict, predict_prob\n",
    "from tqdm import tqdm\n",
    "def get_bias(sents):\n",
    "    embeds = []\n",
    "    \n",
    "    for line in tqdm(sents):\n",
    "        \n",
    "        embeds.append(predict_prob([line])[0])\n",
    "    \n",
    "    assert len(sents) == len(embeds)    \n",
    "    return embeds"
   ]
  },
  {
   "cell_type": "code",
   "execution_count": 14,
   "metadata": {},
   "outputs": [],
   "source": [
    "import pickle as pkl\n",
    "with open('./resources/covid_en_tweet.pickle', 'rb') as pkl_in:\n",
    "    tweets_en = pkl.load(pkl_in)\n",
    "#loading bengali data\n",
    "with open('./resources/covid_bn_tweet.pickle', 'rb') as pkl_in:\n",
    "    tweets_bn = pkl.load(pkl_in)\n",
    "with open('./resources/covid_bn_tweet_test.pickle', 'rb') as pkl_in:\n",
    "    tweets_bn_test = pkl.load(pkl_in)\n",
    "#loading hindi data\n",
    "with open('./resources/covid_hi_tweet.pickle', 'rb') as pkl_in:\n",
    "    tweets_hi = pkl.load(pkl_in)"
   ]
  },
  {
   "cell_type": "code",
   "execution_count": 15,
   "metadata": {},
   "outputs": [
    {
     "name": "stderr",
     "output_type": "stream",
     "text": [
      "100%|██████████| 504/504 [00:00<00:00, 1161.81it/s]\n"
     ]
    }
   ],
   "source": [
    "profan_en = get_bias(tweets_en['text'])"
   ]
  },
  {
   "cell_type": "code",
   "execution_count": 16,
   "metadata": {},
   "outputs": [
    {
     "name": "stderr",
     "output_type": "stream",
     "text": [
      "100%|██████████| 380/380 [00:00<00:00, 1301.95it/s]\n"
     ]
    }
   ],
   "source": [
    "from googletrans import Translator\n",
    "translator = Translator()\n",
    "trans_bn_1 = [translator.translate(txt, dest='en').text for txt in tweets_bn['text']]\n",
    "profan_bn = get_bias(trans_bn_1)"
   ]
  },
  {
   "cell_type": "code",
   "execution_count": 17,
   "metadata": {},
   "outputs": [
    {
     "name": "stderr",
     "output_type": "stream",
     "text": [
      "100%|██████████| 100/100 [00:00<00:00, 1018.53it/s]\n"
     ]
    }
   ],
   "source": [
    "trans_bn_2 = [translator.translate(txt, dest='en').text for txt in tweets_bn_test['text']]\n",
    "profan_bn_2 = get_bias(trans_bn_2)"
   ]
  },
  {
   "cell_type": "code",
   "execution_count": 18,
   "metadata": {},
   "outputs": [
    {
     "name": "stderr",
     "output_type": "stream",
     "text": [
      "100%|██████████| 349/349 [00:00<00:00, 1316.75it/s]\n"
     ]
    }
   ],
   "source": [
    "trans_hi = [translator.translate(txt, dest='en').text for txt in tweets_hi['text'] if type(txt) == str]\n",
    "profan_hi = get_bias(trans_hi)"
   ]
  },
  {
   "cell_type": "code",
   "execution_count": 23,
   "metadata": {},
   "outputs": [
    {
     "data": {
      "text/plain": [
       "(1333,\n",
       " [0.054349430978051574,\n",
       "  0.9636560166817916,\n",
       "  0.0600318935403978,\n",
       "  0.4395198772356731,\n",
       "  0.027549378307104234])"
      ]
     },
     "execution_count": 23,
     "metadata": {},
     "output_type": "execute_result"
    }
   ],
   "source": [
    "profanity_scores = profan_en + profan_bn + profan_hi + profan_bn_2\n",
    "profanity_scores = [scr[0] for scr in profanity_scores]\n",
    "len(profanity_scores), profanity_scores[:5]"
   ]
  },
  {
   "cell_type": "code",
   "execution_count": 24,
   "metadata": {},
   "outputs": [],
   "source": [
    "with open('./resources/profanity_scores.pickle', 'wb') as pkl_out:\n",
    "    pkl.dump(profanity_scores, pkl_out)"
   ]
  }
 ],
 "metadata": {
  "kernelspec": {
   "display_name": "covidfake",
   "language": "python",
   "name": "covidfake"
  },
  "language_info": {
   "codemirror_mode": {
    "name": "ipython",
    "version": 3
   },
   "file_extension": ".py",
   "mimetype": "text/x-python",
   "name": "python",
   "nbconvert_exporter": "python",
   "pygments_lexer": "ipython3",
   "version": "3.6.10"
  }
 },
 "nbformat": 4,
 "nbformat_minor": 4
}
